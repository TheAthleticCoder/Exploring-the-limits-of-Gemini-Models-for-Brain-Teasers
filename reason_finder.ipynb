{
 "cells": [
  {
   "cell_type": "code",
   "execution_count": 8,
   "metadata": {},
   "outputs": [],
   "source": [
    "import numpy as np\n",
    "from sklearn.metrics.pairwise import cosine_similarity\n",
    "from tqdm import tqdm\n",
    "\n",
    "#load data from the files\n",
    "test_file = \"WP_test_mod.npy\"\n",
    "test_data = np.load(test_file, allow_pickle=True)\n",
    "train_file = \"WP_train_mod.npy\"\n",
    "train_data = np.load(train_file, allow_pickle=True)\n",
    "\n",
    "#extract embeddings from train and test data\n",
    "test_embeddings = [item['embedding'] for item in test_data]\n",
    "train_embeddings = [item['embedding'] for item in train_data]"
   ]
  },
  {
   "cell_type": "code",
   "execution_count": 9,
   "metadata": {},
   "outputs": [
    {
     "name": "stderr",
     "output_type": "stream",
     "text": [
      "Processing test set: 96it [00:01, 87.70it/s]\n"
     ]
    }
   ],
   "source": [
    "updated_test_set = []\n",
    "\n",
    "#Loop: through each test data point with tqdm for a progress bar\n",
    "for i, test_embedding in tqdm(enumerate(test_embeddings), desc=\"Processing test set\"):\n",
    "    #cosine similarities between the test embedding and all train embeddings\n",
    "    similarities = cosine_similarity([test_embedding], train_embeddings)[0]\n",
    "\n",
    "    #indices of the top 2 closest embeddings in the training set\n",
    "    top_indices = np.argsort(similarities)[-2:]\n",
    "\n",
    "    #information from the closest training set data points\n",
    "    closest_train_data1 = {key: train_data[top_indices[0]][key] for key in train_data[0].keys()}\n",
    "    closest_train_data2 = {key: train_data[top_indices[1]][key] for key in train_data[0].keys()}\n",
    "\n",
    "    #adding the information to the test data point\n",
    "    test_data_point = {\n",
    "        'question': test_data[i]['question'],\n",
    "        'choice_list': test_data[i]['choice_list'],\n",
    "        'embedding': test_embedding,\n",
    "        'closest_train_data1': closest_train_data1,\n",
    "        'closest_train_data2': closest_train_data2\n",
    "    }\n",
    "    updated_test_set.append(test_data_point)"
   ]
  },
  {
   "cell_type": "code",
   "execution_count": 10,
   "metadata": {},
   "outputs": [],
   "source": [
    "np.save('updated_WP_test_set.npy', updated_test_set)"
   ]
  },
  {
   "cell_type": "code",
   "execution_count": null,
   "metadata": {},
   "outputs": [],
   "source": []
  }
 ],
 "metadata": {
  "kernelspec": {
   "display_name": "pivot",
   "language": "python",
   "name": "python3"
  },
  "language_info": {
   "codemirror_mode": {
    "name": "ipython",
    "version": 3
   },
   "file_extension": ".py",
   "mimetype": "text/x-python",
   "name": "python",
   "nbconvert_exporter": "python",
   "pygments_lexer": "ipython3",
   "version": "3.11.5"
  }
 },
 "nbformat": 4,
 "nbformat_minor": 2
}
